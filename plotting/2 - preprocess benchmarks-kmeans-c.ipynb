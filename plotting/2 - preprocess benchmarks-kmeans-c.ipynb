{
 "cells": [
  {
   "cell_type": "code",
   "execution_count": 1,
   "id": "06fbfdcf",
   "metadata": {},
   "outputs": [],
   "source": [
    "import re\n",
    "import matplotlib.pyplot as plt\n",
    "import seaborn as sns\n",
    "plt.style.use(['seaborn-paper'])\n",
    "import numpy as np\n",
    "import pandas as pd\n",
    "import json\n",
    "from sklearn.metrics.cluster import adjusted_rand_score\n",
    "from sklearn.metrics.cluster import adjusted_mutual_info_score\n",
    "import scipy\n",
    "import traceback\n",
    "plt.rcParams['ps.useafm'] = True\n",
    "plt.rcParams['pdf.use14corefonts'] = True\n",
    "plt.rcParams['text.usetex'] = True\n",
    "\n",
    "dataset_name_dict = {'Mallat': 0,\n",
    " 'UWaveGestureLibraryAll': 1,\n",
    " 'NonInvasiveFetalECGThorax2': 2,\n",
    " 'MixedShapesRegularTrain': 3,\n",
    " 'MixedShapesSmallTrain': 4,\n",
    " 'ECG5000': 5,\n",
    " 'NonInvasiveFetalECGThorax1': 6,\n",
    "#  'MoteStrain': 7,\n",
    " \"StarLightCurves\":7,\n",
    " 'HandOutlines': 8,\n",
    " 'UWaveGestureLibraryX': 9,\n",
    " 'CBF': 10,\n",
    " 'InsectWingbeatSound': 11,\n",
    " 'UWaveGestureLibraryY': 12,\n",
    " 'ShapesAll': 13,\n",
    " 'SonyAIBORobotSurface2': 14,\n",
    " 'FreezerSmallTrain': 15,\n",
    " 'Crop':16,\n",
    " 'ElectricDevices':17}\n",
    "\n",
    "datasets=dataset_name_dict.keys()\n",
    "\n",
    "workers=[1, 4, 12, 24, 36, 48, 96]# 1 must be first processed\n",
    "\n",
    "data_information = json.load(open(\"dataset_information.json\"))\n",
    "data_information = json.loads(data_information)"
   ]
  },
  {
   "cell_type": "code",
   "execution_count": 14,
   "id": "7fa2ec9c",
   "metadata": {},
   "outputs": [],
   "source": [
    "# for dataset in datasets:\n",
    "#     print(len(np.unique(data_information[dataset][\"true_labels\"])))"
   ]
  },
  {
   "cell_type": "markdown",
   "id": "7d618d14",
   "metadata": {},
   "source": [
    "## KMEANS"
   ]
  },
  {
   "cell_type": "code",
   "execution_count": 15,
   "id": "5e3d3dc8",
   "metadata": {},
   "outputs": [],
   "source": [
    "def getKMeansQuality(dataset, worker):\n",
    "    true_labels = data_information[dataset][\"true_labels\"]\n",
    "    n_cluster = len(np.unique(true_labels))\n",
    "    kmeans_clustering = np.genfromtxt(\"../outputs/kmeans_c/%s_X.dat.membership_%s\" % (dataset, worker))[:,1]\n",
    "    score = adjusted_rand_score(true_labels, kmeans_clustering)\n",
    "    info_score = adjusted_mutual_info_score(true_labels, kmeans_clustering)\n",
    "    return {\n",
    "        \"score\":score,\n",
    "        \"info_score\":info_score\n",
    "    }"
   ]
  },
  {
   "cell_type": "code",
   "execution_count": 40,
   "id": "6a33d91a",
   "metadata": {},
   "outputs": [],
   "source": [
    "def getKMeansTimes(dataset, worker):\n",
    "    init_pattern = r'Initialize time\\s+=\\s+([\\d.]+)\\s+sec'\n",
    "    comp_pattern = r'Computation timing\\s+=\\s+([\\d.]+)\\s+sec'\n",
    "    \n",
    "    f1 = open(\"../outputs/kmeans_c/%s_%sth_kmeans.txt\" % (dataset, worker))\n",
    "    data1 = f1.read()\n",
    "    match = re.search(init_pattern, data1)\n",
    "    init_time = float(match.group(1))\n",
    "    match = re.search(comp_pattern, data1)\n",
    "    comp_time = float(match.group(1))\n",
    "    time = init_time + comp_time\n",
    "    \n",
    "    result = {\n",
    "        \"dataset\":dataset,\n",
    "        \"workers\":worker,\n",
    "        \"time\":time,\n",
    "        \"init_time\":init_time,\n",
    "        \"comp_time\":comp_time,\n",
    "        \"method\":\"kmeans_c\"\n",
    "    }\n",
    "    return result"
   ]
  },
  {
   "cell_type": "code",
   "execution_count": 41,
   "id": "d14681a5",
   "metadata": {},
   "outputs": [],
   "source": [
    "data = []\n",
    "one_thread_time = {}\n",
    "# datasets = [\"Crop\", \"ElectricDevices\"]\n",
    "for dataset in datasets:\n",
    "    for worker in workers:\n",
    "        try:\n",
    "            tmp = getKMeansTimes(dataset, worker)\n",
    "            tmp.update(getKMeansQuality(dataset, worker))\n",
    "            if(worker==1):\n",
    "                one_thread_time[dataset] = tmp[\"time\"]\n",
    "                tmp[\"speedup\"]=1\n",
    "            else:\n",
    "                speedup = one_thread_time[dataset]/tmp[\"time\"]\n",
    "                tmp[\"speedup\"]=speedup\n",
    "            tmp[\"ID\"] = str(dataset_name_dict[tmp[\"dataset\"]])\n",
    "            tmp[\"workers\"] = worker\n",
    "            tmp[\"n\"] = data_information[dataset][\"n\"]\n",
    "            data.append(tmp)\n",
    "        except:\n",
    "            print(dataset, worker)\n",
    "df = pd.DataFrame(data)"
   ]
  },
  {
   "cell_type": "code",
   "execution_count": 45,
   "id": "fcf3ea84",
   "metadata": {},
   "outputs": [],
   "source": [
    "df[\"edge_sum\"] = 0\n",
    "for i in range(17):\n",
    "    median_score = np.median(df[df[\"ID\"]==str(i)][\"score\"])\n",
    "    df.loc[df[\"ID\"]==str(i),\"median_score\"] = median_score\n",
    "    median_info_score = np.median(df[df[\"ID\"]==str(i)][\"info_score\"])\n",
    "    df.loc[df[\"ID\"]==str(i),\"median_info_score\"] = median_info_score\n",
    "df[[\"dataset\", \"workers\", \"time\", \"method\", \"speedup\", 'ID', 'score','info_score','edge_sum', 'n', \"median_score\", \"median_info_score\", 'init_time', 'comp_time']].to_csv(\"kmeans_c.csv\")"
   ]
  }
 ],
 "metadata": {
  "kernelspec": {
   "display_name": "Python 3 (ipykernel)",
   "language": "python",
   "name": "python3"
  },
  "language_info": {
   "codemirror_mode": {
    "name": "ipython",
    "version": 3
   },
   "file_extension": ".py",
   "mimetype": "text/x-python",
   "name": "python",
   "nbconvert_exporter": "python",
   "pygments_lexer": "ipython3",
   "version": "3.9.12"
  }
 },
 "nbformat": 4,
 "nbformat_minor": 5
}
