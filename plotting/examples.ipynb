{
 "cells": [
  {
   "cell_type": "code",
   "execution_count": 7,
   "id": "32d0da1b",
   "metadata": {},
   "outputs": [],
   "source": [
    "from scipy.cluster.hierarchy import dendrogram\n",
    "import matplotlib.pyplot as plt\n",
    "import numpy as np\n",
    "from scipy.io import savemat\n",
    "import seaborn as sns\n",
    "import pandas as pd\n",
    "plt.rcParams['ps.useafm'] = True\n",
    "plt.rcParams['pdf.use14corefonts'] = True\n",
    "plt.rcParams['text.usetex'] = True"
   ]
  },
  {
   "cell_type": "code",
   "execution_count": 4,
   "id": "2ed0d051",
   "metadata": {},
   "outputs": [
    {
     "data": {
      "image/png": "[encoded data removed]",
      "text/plain": [
       "<Figure size 360x288 with 1 Axes>"
      ]
     },
     "metadata": {
      "needs_background": "light"
     },
     "output_type": "display_data"
    }
   ],
   "source": [
    "Z = np.genfromtxt(\"example-exact-Z-0\")\n",
    "f, ax = plt.subplots(figsize=(5, 4))\n",
    "dendrogram(Z,ax = ax, color_threshold=0, leaf_font_size=15)\n",
    "\n",
    "ax.set_yticks([])#[1/6, 1/5, 1/4, 1/3, 1/2, 1]\n",
    "# ax.set_yticklabels([\"1/6\", \"1/5\", \"1/4\", \"1/3\", \"1/2\", \"1\"])\n",
    "ax.spines['top'].set_visible(False)\n",
    "ax.spines['right'].set_visible(False)\n",
    "ax.spines['bottom'].set_visible(False)\n",
    "ax.spines['left'].set_visible(False)\n",
    "# ax.grid(which='minor', linestyle=':', linewidth='0.5', color='black', axis=\"y\")\n",
    "# for i in [1/6, 1/5, 1/4, 1/3, 1/2, 1]:\n",
    "#     ax.axhline(i, linestyle = ':', c = \"black\")\n",
    "for l in ax.yaxis.get_ticklabels():\n",
    "    l.set_fontsize(15)\n",
    "# plt.savefig(\"../../figures/dendroexample1.pdf\")"
   ]
  },
  {
   "cell_type": "code",
   "execution_count": 15,
   "id": "89b3641c",
   "metadata": {},
   "outputs": [
    {
     "data": {
      "image/png": "[encoded data removed]",
      "text/plain": [
       "<Figure size 360x288 with 1 Axes>"
      ]
     },
     "metadata": {
      "needs_background": "light"
     },
     "output_type": "display_data"
    }
   ],
   "source": [
    "Z = np.genfromtxt(\"example2-exact-Z-0\")\n",
    "f, ax = plt.subplots(figsize=(5, 4))\n",
    "dendrogram(Z,ax = ax, color_threshold=0, leaf_font_size=15)\n",
    "\n",
    "ax.set_yticks([])#[1/6, 1/5, 1/4, 1/3, 1/2, 1]\n",
    "# ax.set_yticklabels([\"1/6\", \"1/5\", \"1/4\", \"1/3\", \"1/2\", \"1\"])\n",
    "ax.spines['top'].set_visible(False)\n",
    "ax.spines['right'].set_visible(False)\n",
    "ax.spines['bottom'].set_visible(False)\n",
    "ax.spines['left'].set_visible(False)\n",
    "# ax.grid(which='minor', linestyle=':', linewidth='0.5', color='black', axis=\"y\")\n",
    "# for i in [1/6, 1/5, 1/4, 1/3, 1/2, 1]:\n",
    "#     ax.axhline(i, linestyle = ':', c = \"black\")\n",
    "for l in ax.yaxis.get_ticklabels():\n",
    "    l.set_fontsize(15)\n",
    "plt.savefig(\"./figures/dendro_example1.pdf\")"
   ]
  },
  {
   "cell_type": "code",
   "execution_count": 17,
   "id": "1ed26a72",
   "metadata": {},
   "outputs": [
    {
     "data": {
      "image/png": "[encoded data removed]",
      "text/plain": [
       "<Figure size 360x288 with 1 Axes>"
      ]
     },
     "metadata": {
      "needs_background": "light"
     },
     "output_type": "display_data"
    }
   ],
   "source": [
    "Z = np.genfromtxt(\"example2-prefix-3-Z-0\")\n",
    "f, ax = plt.subplots(figsize=(5, 4))\n",
    "dendrogram(Z,ax = ax, color_threshold=0, leaf_font_size=15)\n",
    "\n",
    "ax.set_yticks([])#[1/6, 1/5, 1/4, 1/3, 1/2, 1]\n",
    "# ax.set_yticklabels([\"1/6\", \"1/5\", \"1/4\", \"1/3\", \"1/2\", \"1\"])\n",
    "ax.spines['top'].set_visible(False)\n",
    "ax.spines['right'].set_visible(False)\n",
    "ax.spines['bottom'].set_visible(False)\n",
    "ax.spines['left'].set_visible(False)\n",
    "# ax.grid(which='minor', linestyle=':', linewidth='0.5', color='black', axis=\"y\")\n",
    "# for i in [1/6, 1/5, 1/4, 1/3, 1/2, 1]:\n",
    "#     ax.axhline(i, linestyle = ':', c = \"black\")\n",
    "for l in ax.yaxis.get_ticklabels():\n",
    "    l.set_fontsize(15)\n",
    "plt.savefig(\"./figures/dendro_example2.pdf\")"
   ]
  },
  {
   "cell_type": "code",
   "execution_count": null,
   "id": "de447d00",
   "metadata": {},
   "outputs": [],
   "source": [
    "A = np.zeros((7,7))\n",
    "def assign(i,j,v):\n",
    "    A[i,j] = v\n",
    "    A[j,i] = v\n",
    "assign(0,1,8)\n",
    "assign(0,2,8)\n",
    "assign(0,3,8)\n",
    "assign(0,4,8)\n",
    "\n",
    "assign(1,2,8)\n",
    "assign(1,3,8)\n",
    "assign(1,4,4)\n",
    "assign(1,5,4)\n",
    "\n",
    "assign(2,4,8)\n",
    "assign(2,3,4)\n",
    "assign(2,5,4)\n",
    "\n",
    "assign(3,5,4)\n",
    "\n",
    "assign(0,6, 2)\n",
    "assign(1,6, 2)\n",
    "assign(3,6, 2)\n",
    "\n",
    "A = A/10\n",
    "np.fill_diagonal(A,1)\n",
    "A\n",
    "# np.savetxt(\"../datasets/example\", A, delimiter=\" \", fmt='%.1e')\n",
    "# savemat(\"../datasets/example.mat\" ,{\"R\":A})\n",
    "# A.tofile(\"example.dat\")"
   ]
  },
  {
   "cell_type": "code",
   "execution_count": 3,
   "id": "063dbf5f",
   "metadata": {},
   "outputs": [],
   "source": [
    "A = np.zeros((6,6))\n",
    "def assign(i,j,v):\n",
    "    A[i,j] = v\n",
    "    A[j,i] = v\n",
    "assign(0,1,8)\n",
    "assign(0,2,8)\n",
    "assign(0,3,9)\n",
    "assign(0,4,8)\n",
    "\n",
    "assign(1,2,8)\n",
    "assign(1,3,8)\n",
    "assign(1,4,4)\n",
    "assign(1,5,4)\n",
    "\n",
    "assign(2,4,8)\n",
    "assign(2,3,4)\n",
    "assign(2,5,4)\n",
    "\n",
    "assign(3,5,4.1)\n",
    "\n",
    "assign(4,5,4.2)\n",
    "\n",
    "A = A/10\n",
    "np.fill_diagonal(A,1)\n",
    "# A.tofile(\"example_rebuttal.dat\")"
   ]
  },
  {
   "cell_type": "code",
   "execution_count": 21,
   "id": "02d4def9",
   "metadata": {},
   "outputs": [
    {
     "data": {
      "text/plain": [
       "array([[1.  , 0.8 , 0.8 , 0.9 , 0.8 , 0.  ],\n",
       "       [0.8 , 1.  , 0.8 , 0.8 , 0.4 , 0.4 ],\n",
       "       [0.8 , 0.8 , 1.  , 0.4 , 0.8 , 0.4 ],\n",
       "       [0.9 , 0.8 , 0.4 , 1.  , 0.  , 0.41],\n",
       "       [0.8 , 0.4 , 0.8 , 0.  , 1.  , 0.42],\n",
       "       [0.  , 0.4 , 0.4 , 0.41, 0.42, 1.  ]])"
      ]
     },
     "execution_count": 21,
     "metadata": {},
     "output_type": "execute_result"
    }
   ],
   "source": [
    "A"
   ]
  },
  {
   "cell_type": "code",
   "execution_count": 35,
   "id": "0d64750c",
   "metadata": {},
   "outputs": [
    {
     "data": {
      "image/png": "[encoded data removed]",
      "text/plain": [
       "<Figure size 432x288 with 1 Axes>"
      ]
     },
     "metadata": {
      "needs_background": "light"
     },
     "output_type": "display_data"
    }
   ],
   "source": [
    "\n",
    "sns.heatmap(A, annot=True, cbar=False)"
   ]
  },
  {
   "cell_type": "code",
   "execution_count": 8,
   "id": "17db238c",
   "metadata": {},
   "outputs": [
    {
     "data": {
      "image/png": "[encoded data removed]",
      "text/plain": [
       "<Figure size 432x288 with 1 Axes>"
      ]
     },
     "metadata": {
      "needs_background": "light"
     },
     "output_type": "display_data"
    }
   ],
   "source": [
    "labels = [1,3,5,0,2,4]\n",
    "A_shuffle = A[:, labels][labels,:]\n",
    "df_cm = pd.DataFrame(A_shuffle) # index = labels, columns = labels\n",
    "sns.heatmap(df_cm, annot=True, cbar=False, cmap=sns.cubehelix_palette(as_cmap=True))\n",
    "plt.savefig(\"./figures/heatmap_rebuttal.pdf\")"
   ]
  },
  {
   "cell_type": "code",
   "execution_count": 39,
   "id": "4116fe0c",
   "metadata": {},
   "outputs": [
    {
     "data": {
      "text/plain": [
       "<AxesSubplot:>"
      ]
     },
     "execution_count": 39,
     "metadata": {},
     "output_type": "execute_result"
    },
    {
     "data": {
      "image/png": "[encoded data removed]",
      "text/plain": [
       "<Figure size 432x288 with 1 Axes>"
      ]
     },
     "metadata": {
      "needs_background": "light"
     },
     "output_type": "display_data"
    }
   ],
   "source": [
    "labels = [0,1,3,5,2,4]\n",
    "A_shuffle = A[:, labels][labels,:]\n",
    "df_cm = pd.DataFrame(A_shuffle, index = labels,\n",
    "                  columns = labels)\n",
    "sns.heatmap(df_cm, annot=True, cbar=False, cmap=sns.cubehelix_palette(as_cmap=True))"
   ]
  },
  {
   "cell_type": "code",
   "execution_count": null,
   "id": "cd406a2f",
   "metadata": {},
   "outputs": [],
   "source": []
  }
 ],
 "metadata": {
  "kernelspec": {
   "display_name": "Python 3 (ipykernel)",
   "language": "python",
   "name": "python3"
  },
  "language_info": {
   "codemirror_mode": {
    "name": "ipython",
    "version": 3
   },
   "file_extension": ".py",
   "mimetype": "text/x-python",
   "name": "python",
   "nbconvert_exporter": "python",
   "pygments_lexer": "ipython3",
   "version": "3.9.12"
  }
 },
 "nbformat": 4,
 "nbformat_minor": 5
}
